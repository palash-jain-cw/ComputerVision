{
 "cells": [
  {
   "cell_type": "code",
   "execution_count": 2,
   "id": "4d7c376d-630d-4b62-bc99-3d891a3a6f80",
   "metadata": {},
   "outputs": [
    {
     "name": "stdout",
     "output_type": "stream",
     "text": [
      "Using cuda for training\n"
     ]
    }
   ],
   "source": [
    "from lenet5_pytorch import *\n",
    "import numpy as np\n",
    "import matplotlib.pyplot as plt"
   ]
  },
  {
   "cell_type": "code",
   "execution_count": 11,
   "id": "d5b930f6-1601-4f97-8880-106ff7705f8d",
   "metadata": {},
   "outputs": [
    {
     "name": "stdout",
     "output_type": "stream",
     "text": [
      "Files already downloaded and verified\n",
      "Files already downloaded and verified\n",
      "Data Loaded Successfully\n",
      "Model Architecture Initialized Successfully\n",
      "[1,   200] loss: 1.908\n",
      "[2,   200] loss: 1.531\n",
      "[3,   200] loss: 1.399\n",
      "[4,   200] loss: 1.321\n",
      "[5,   200] loss: 1.255\n",
      "Finished Training\n"
     ]
    }
   ],
   "source": [
    "model = train_model(learning_rate=0.001, batch_size=128,num_epochs=5)"
   ]
  },
  {
   "cell_type": "code",
   "execution_count": 12,
   "id": "7aac1534-5d39-4e86-b20f-87952080a279",
   "metadata": {},
   "outputs": [
    {
     "name": "stdout",
     "output_type": "stream",
     "text": [
      "Files already downloaded and verified\n",
      "Files already downloaded and verified\n"
     ]
    }
   ],
   "source": [
    "trainloader, testloader, classes = get_data(batch_size=batch_size)"
   ]
  },
  {
   "cell_type": "code",
   "execution_count": 13,
   "id": "385eb2ef-517f-4db5-8ec4-9eaabf33fa73",
   "metadata": {},
   "outputs": [],
   "source": []
  },
  {
   "cell_type": "code",
   "execution_count": 15,
   "id": "532c4010-8c43-4769-9736-ff0e7aa33c2e",
   "metadata": {},
   "outputs": [],
   "source": []
  },
  {
   "cell_type": "code",
   "execution_count": 16,
   "id": "965b8fb3-b28b-44f6-b857-e2caaec74a54",
   "metadata": {},
   "outputs": [
    {
     "name": "stdout",
     "output_type": "stream",
     "text": [
      "              precision    recall  f1-score   support\n",
      "\n",
      "           0       0.56      0.65      0.60      1000\n",
      "           1       0.62      0.74      0.67      1000\n",
      "           2       0.35      0.52      0.42      1000\n",
      "           3       0.41      0.29      0.34      1000\n",
      "           4       0.52      0.39      0.45      1000\n",
      "           5       0.46      0.48      0.47      1000\n",
      "           6       0.59      0.66      0.62      1000\n",
      "           7       0.73      0.51      0.60      1000\n",
      "           8       0.63      0.67      0.65      1000\n",
      "           9       0.66      0.50      0.57      1000\n",
      "\n",
      "    accuracy                           0.54     10000\n",
      "   macro avg       0.55      0.54      0.54     10000\n",
      "weighted avg       0.55      0.54      0.54     10000\n",
      "\n"
     ]
    }
   ],
   "source": [
    "print(classification_report(targets,predictions))"
   ]
  },
  {
   "cell_type": "code",
   "execution_count": null,
   "id": "702e7efd-d4fe-4e19-afdf-6861798cc98a",
   "metadata": {},
   "outputs": [],
   "source": []
  }
 ],
 "metadata": {
  "kernelspec": {
   "display_name": "Python [conda env:ComputerVision] *",
   "language": "python",
   "name": "conda-env-ComputerVision-py"
  },
  "language_info": {
   "codemirror_mode": {
    "name": "ipython",
    "version": 3
   },
   "file_extension": ".py",
   "mimetype": "text/x-python",
   "name": "python",
   "nbconvert_exporter": "python",
   "pygments_lexer": "ipython3",
   "version": "3.7.10"
  }
 },
 "nbformat": 4,
 "nbformat_minor": 5
}
